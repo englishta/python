{
 "metadata": {
  "language_info": {
   "codemirror_mode": {
    "name": "ipython",
    "version": 3
   },
   "file_extension": ".py",
   "mimetype": "text/x-python",
   "name": "python",
   "nbconvert_exporter": "python",
   "pygments_lexer": "ipython3",
   "version": "3.8.5-final"
  },
  "orig_nbformat": 2,
  "kernelspec": {
   "name": "python3",
   "display_name": "Python 3",
   "language": "python"
  }
 },
 "nbformat": 4,
 "nbformat_minor": 2,
 "cells": [
  {
   "cell_type": "code",
   "execution_count": 2,
   "metadata": {},
   "outputs": [],
   "source": [
    "import numpy as np\n",
    "from sklearn import datasets\n",
    "from sklearn import metrics\n",
    "from sklearn.neural_network import MLPClassifier\n",
    "import warnings\n",
    "import matplotlib.pyplot as plt\n",
    "warnings.filterwarnings( 'ignore' )\n",
    "\n",
    "iris = datasets.load_iris()\n",
    "X = iris.data\n",
    "Y = iris.target\n",
    "X_train = X[ np.arange(0, len(X), 2) ] # 偶数行: 学習データ(説明変数)\n",
    "Y_train = Y[ np.arange(0, len(Y), 2) ] # 偶数行: 学習データ(目的変数: 教師ラベル)\n",
    "X_test = X[ np.arange(1, len(X), 2) ] # 奇数行: テストデータ(説明変数)\n",
    "Y_test = Y[ np.arange(1, len(Y), 2) ] \n",
    "\n",
    "publi = []\n",
    "learn = []\n",
    "k_value = []\n",
    "\n",
    "for k in range(1, 31):\n",
    "    model = MLPClassifier( hidden_layer_sizes = k, max_iter = 100000 ) \n",
    "    model.fit( X_train, Y_train )\n",
    "    Y_predicted = model.predict( X_test ) \n",
    "    Y_predicted\n",
    "\n",
    "    k_value.append(k)\n",
    "    publi.append(metrics.accuracy_score( Y_test, Y_predicted )) \n",
    "\n",
    "    Y_predicted_train = model.predict( X_train )\n",
    "    learn.append(metrics.accuracy_score( Y_train, Y_predicted_train ))"
   ]
  },
  {
   "cell_type": "code",
   "execution_count": null,
   "metadata": {},
   "outputs": [],
   "source": [
    "plt.plot(k_value, publi, 'r.-')\n",
    "plt.plot(k_value, learn, 'b.-')"
   ]
  }
 ]
}