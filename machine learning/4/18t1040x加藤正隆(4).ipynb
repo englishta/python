{
 "metadata": {
  "language_info": {
   "codemirror_mode": {
    "name": "ipython",
    "version": 3
   },
   "file_extension": ".py",
   "mimetype": "text/x-python",
   "name": "python",
   "nbconvert_exporter": "python",
   "pygments_lexer": "ipython3",
   "version": "3.8.5-final"
  },
  "orig_nbformat": 2,
  "kernelspec": {
   "name": "Python 3.8.5 64-bit",
   "display_name": "Python 3.8.5 64-bit",
   "metadata": {
    "interpreter": {
     "hash": "31f2aee4e71d21fbe5cf8b01ff0e069b9275f58929596ceb00d14d90e3e16cd6"
    }
   }
  }
 },
 "nbformat": 4,
 "nbformat_minor": 2,
 "cells": [
  {
   "cell_type": "code",
   "execution_count": 2,
   "metadata": {},
   "outputs": [
    {
     "output_type": "execute_result",
     "data": {
      "text/plain": [
       "[42.85, 2.595000000000002, 6, 2.2048291716821495]"
      ]
     },
     "metadata": {},
     "execution_count": 2
    }
   ],
   "source": [
    "x = [44.9, 43.7, 41.2, 41.8, 41.3, 44.2] \n",
    "import numpy as np\n",
    "x_bar = np.mean(x)\n",
    "s2 = np.var(x, ddof=1)#不偏分散\n",
    "N = np.size(x)\n",
    "mu = 41.4\n",
    "t = (x_bar-mu)/np.sqrt(s2/N)\n",
    "[x_bar, s2, N, t]"
   ]
  },
  {
   "cell_type": "code",
   "execution_count": 32,
   "metadata": {},
   "outputs": [
    {
     "output_type": "stream",
     "name": "stdout",
     "text": [
      "Right= 2.015048372669157\np_value= 0.993182157184397 t= -3.725401014221549\nH0 is OK=saitaku\n"
     ]
    }
   ],
   "source": [
    "#信頼区間を計算し仮説を判定する関数\n",
    "#H0:交代後も母平均に変化なし(µ=µ0)（帰無仮説)\n",
    "#H1:µ>µ0 (対立仮説)\n",
    "def interval_t(alpha, x, mu):\n",
    "    import numpy as np\n",
    "    from scipy.stats import t\n",
    "    x_bar = np.mean(x)      #標本平均\n",
    "    s2 = np.var(x, ddof=1)  #標本不偏分散\n",
    "    N = np.size(x)          #標本サイズ\n",
    "    T = (x_bar-mu)/np.sqrt(s2/N)\n",
    "    Right = t.ppf(1-alpha, df=N-1)\n",
    "    p_value = 1-t.cdf(T, df=N-1)\n",
    "    print('Right=', Right)\n",
    "    print('p_value=', p_value, 't=', T)\n",
    "    if p_value<alpha: print('H0 is wrong=kikyaku')\n",
    "    else: print('H0 is OK=saitaku')\n",
    "\n",
    "x = [44.9, 43.7, 41.2, 41.8, 41.3, 44.2]\n",
    "interval_t(0.05, x, 45.3)\n"
   ]
  },
  {
   "cell_type": "code",
   "execution_count": 33,
   "metadata": {},
   "outputs": [
    {
     "output_type": "stream",
     "name": "stdout",
     "text": [
      "Left 3.325112843066815\np_value= 0.03210400061330335\nH0 is wrong=kikyaku\n"
     ]
    }
   ],
   "source": [
    "#判定関数\n",
    "#H0:交代後もばらつき具合に変化なし（帰無仮説）を立てる\n",
    "def Chi_2(alpha, x, bunsan):\n",
    "    import numpy as np\n",
    "    from scipy.stats import chi2\n",
    "    s2 = np.var(x, ddof=1)  #標本不偏分散\n",
    "    N = np.size(x)          #標本サイズ\n",
    "    Chi2 = (N-1)*s2/bunsan**2\n",
    "    Left=chi2.ppf(alpha, df=N-1)\n",
    "    p_value=chi2.cdf(Chi2, df=N-1)\n",
    "    print('Left', Left)\n",
    "    print('p_value=', p_value)\n",
    "    if p_value<alpha: print('H0 is wrong=kikyaku')\n",
    "    else: print('H0 is OK=saitaku')\n",
    "\n",
    "x = [35.2, 34.5, 34.9, 35.2, 34.8, 35.1, 34.9, 35.2, 34.9, 34.8]\n",
    "Chi_2(0.05, x, 0.4)"
   ]
  },
  {
   "cell_type": "code",
   "execution_count": 40,
   "metadata": {},
   "outputs": [
    {
     "output_type": "execute_result",
     "data": {
      "text/plain": [
       "[-2.10092204024096, 2.10092204024096, 0.047251656144550944]"
      ]
     },
     "metadata": {},
     "execution_count": 40
    }
   ],
   "source": [
    "#イワナ両端\n",
    "x1 = [165, 130, 182, 178, 194, 206, 160, 122, 212, 165, 247, 195]\n",
    "x2 = [180, 180, 235, 270, 240, 285, 164, 152] \n",
    "import numpy as np # ライブラリのインポート\n",
    "x1_bar = np.mean(x1) # 標本平均\n",
    "x2_bar = np.mean(x2) # 標本平均\n",
    "N1 = np.size(x1) # 標本サイズ\n",
    "N2 = np.size(x2) # 標本サイズ\n",
    "s2_1 = np.var(x1, ddof=1) # 標本不偏分散\n",
    "s2_2 = np.var(x2, ddof=1) # 標本不偏分散\n",
    "s2 = ((N1-1)*s2_1 + (N2-1)*s2_2) / (N1+N2-2) # 標本不偏分散\n",
    "T = (x1_bar - x2_bar) / np.sqrt(s2/N1+s2/N2) # 検定統計量 \n",
    "from scipy.stats import t # ライブラリのインポート\n",
    "m = N1+N2-2 # 自由度\n",
    "Light = t.ppf(0.05/2, df=m) # 棄却域\n",
    "Right = t.ppf(1-0.05/2, df=m) # 棄却域\n",
    "p_value = t.cdf(T, df=m) # p値\n",
    "[Light, Right, p_value] "
   ]
  },
  {
   "cell_type": "code",
   "execution_count": 36,
   "metadata": {},
   "outputs": [
    {
     "output_type": "execute_result",
     "data": {
      "text/plain": [
       "[-1.734063606617536, 0.047251656144550944]"
      ]
     },
     "metadata": {},
     "execution_count": 36
    }
   ],
   "source": [
    "#イワナ片方\n",
    "import numpy as np # ライブラリのインポート\n",
    "x1_bar = np.mean(x1) # 標本平均\n",
    "x2_bar = np.mean(x2) # 標本平均\n",
    "N1 = np.size(x1) # 標本サイズ\n",
    "N2 = np.size(x2) # 標本サイズ\n",
    "s2_1 = np.var(x1, ddof=1) # 標本不偏分散\n",
    "s2_2 = np.var(x2, ddof=1) # 標本不偏分散\n",
    "s2 = ((N1-1)*s2_1 + (N2-1)*s2_2) / (N1+N2-2) # 標本不偏分散\n",
    "T = (x1_bar - x2_bar) / np.sqrt(s2/N1+s2/N2) \n",
    "from scipy.stats import t # ライブラリのインポート\n",
    "m = N1+N2-2 # 自由度\n",
    "Left = t.ppf(0.05, df=m) # 棄却域\n",
    "p_value = t.cdf(T, df=m) # p値\n",
    "[Left, p_value]"
   ]
  },
  {
   "cell_type": "code",
   "execution_count": 38,
   "metadata": {},
   "outputs": [
    {
     "output_type": "stream",
     "name": "stdout",
     "text": [
      "Right= 1.8331129326536335\np_value= 0.024175932147326273 t= 2.2826577307580576\nH0 is wrong=kikyaku\n"
     ]
    }
   ],
   "source": [
    "def interval_t(alpha, x, mu):\n",
    "    import numpy as np\n",
    "    from scipy.stats import t\n",
    "    x_bar = np.mean(x)      #標本平均\n",
    "    s2 = np.var(x, ddof=1)  #標本不偏分散\n",
    "    N = np.size(x)          #標本サイズ\n",
    "    T = (x_bar-mu)/np.sqrt(s2/N)\n",
    "    Right = t.ppf(1-alpha, df=N-1)\n",
    "    p_value = 1-t.cdf(T, df=N-1)\n",
    "    print('Right=', Right)\n",
    "    print('p_value=', p_value, 't=', T)\n",
    "    if p_value<alpha: print('H0 is wrong=kikyaku')\n",
    "    else: print('H0 is OK=saitaku')\n",
    "\n",
    "x1 = [37.1, 36.2, 36.6, 37.4, 36.8, 36.7, 36.9, 37.4, 36.6, 36.7]#電子\n",
    "x2 = [36.8, 36.6, 36.5, 37.0, 36.0, 36.5, 36.6, 37.1, 36.4, 36.7]#水銀\n",
    "#H0:x=(x1-x2)の平均＝0　帰無仮説\n",
    "#H1:xの平均>0 対立仮説\n",
    "x = np.array(x1)-np.array(x2)\n",
    "interval_t(0.05, x, 0)"
   ]
  },
  {
   "cell_type": "code",
   "execution_count": 39,
   "metadata": {},
   "outputs": [
    {
     "output_type": "execute_result",
     "data": {
      "text/plain": [
       "[1.7340636066175354, 0.08538918169524912]"
      ]
     },
     "metadata": {},
     "execution_count": 39
    }
   ],
   "source": [
    "x1_bar = np.mean(x1) # 標本平均\n",
    "x2_bar = np.mean(x2) # 標本平均\n",
    "N1 = np.size(x1) # 標本サイズ\n",
    "N2 = np.size(x2) # 標本サイズ\n",
    "s2_1 = np.var(x1, ddof=1) # 標本不偏分散\n",
    "s2_2 = np.var(x2, ddof=1) # 標本不偏分散\n",
    "s2 = ((N1-1)*s2_1 + (N2-1)*s2_2) / (N1+N2-2) # 標本不偏分散\n",
    "T = (x1_bar - x2_bar) / np.sqrt(s2/N1+s2/N2) # 検定統計量\n",
    "from scipy.stats import t # ライブラリのインポート\n",
    "m = N1+N2-2 # 自由度\n",
    "Right = t.ppf(1-0.05, df=m) # 棄却域 (右側検定なので)\n",
    "p_value = 1- t.cdf(T, df=m) # p値 (右側検定なので)\n",
    "[Right, p_value]"
   ]
  },
  {
   "cell_type": "code",
   "execution_count": null,
   "metadata": {},
   "outputs": [],
   "source": []
  }
 ]
}