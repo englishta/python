{
 "metadata": {
  "language_info": {
   "codemirror_mode": {
    "name": "ipython",
    "version": 3
   },
   "file_extension": ".py",
   "mimetype": "text/x-python",
   "name": "python",
   "nbconvert_exporter": "python",
   "pygments_lexer": "ipython3",
   "version": "3.8.5-final"
  },
  "orig_nbformat": 2,
  "kernelspec": {
   "name": "python3",
   "display_name": "Python 3.8.5 64-bit",
   "metadata": {
    "interpreter": {
     "hash": "31f2aee4e71d21fbe5cf8b01ff0e069b9275f58929596ceb00d14d90e3e16cd6"
    }
   }
  }
 },
 "nbformat": 4,
 "nbformat_minor": 2,
 "cells": [
  {
   "cell_type": "code",
   "execution_count": 188,
   "metadata": {},
   "outputs": [
    {
     "output_type": "execute_result",
     "data": {
      "text/plain": [
       "   順位   コード     市場                   名称    取引値 取引値.1       前日比 前日比.1  \\\n",
       "0   1  1689  東証ETF  WisdomTree 天然ガス上場投信  15:00     2  +100.00%    +1   \n",
       "1   2  6031   マザーズ             サイジニア(株)  15:00  1374   +27.93%  +300   \n",
       "2   3  6063  東証JQS  日本エマージェンシーアシスタンス(株)  15:00  1394   +27.42%  +300   \n",
       "3   4  6177   マザーズ           ＡｐｐＢａｎｋ(株)  15:00   235   +27.03%   +50   \n",
       "4   5  7359   マザーズ              (株)東京通信  15:00  2043   +24.35%  +400   \n",
       "5   6  4180   マザーズ      Ａｐｐｉｅｒ　Ｇｒｏｕｐ(株)  15:00  1900   +18.01%  +290   \n",
       "6   7  3223  東証JQS           (株)エスエルディー  15:00   698   +16.72%  +100   \n",
       "7   8  4055   マザーズ           ティアンドエス(株)  15:00  5070   +16.15%  +705   \n",
       "8   9  4165   マザーズ              (株)プレイド  15:00  4200   +15.38%  +560   \n",
       "9  10  6743   東証2部              大同信号(株)  14:57   690   +14.24%   +86   \n",
       "\n",
       "        出来高  掲示板  \n",
       "0   8078100  掲示板  \n",
       "1      9100  掲示板  \n",
       "2     20500  掲示板  \n",
       "3   1323000  掲示板  \n",
       "4    847000  掲示板  \n",
       "5  16334500  掲示板  \n",
       "6     30700  掲示板  \n",
       "7    283300  掲示板  \n",
       "8   1590100  掲示板  \n",
       "9      7700  掲示板  "
      ],
      "text/html": "<div>\n<style scoped>\n    .dataframe tbody tr th:only-of-type {\n        vertical-align: middle;\n    }\n\n    .dataframe tbody tr th {\n        vertical-align: top;\n    }\n\n    .dataframe thead th {\n        text-align: right;\n    }\n</style>\n<table border=\"1\" class=\"dataframe\">\n  <thead>\n    <tr style=\"text-align: right;\">\n      <th></th>\n      <th>順位</th>\n      <th>コード</th>\n      <th>市場</th>\n      <th>名称</th>\n      <th>取引値</th>\n      <th>取引値.1</th>\n      <th>前日比</th>\n      <th>前日比.1</th>\n      <th>出来高</th>\n      <th>掲示板</th>\n    </tr>\n  </thead>\n  <tbody>\n    <tr>\n      <th>0</th>\n      <td>1</td>\n      <td>1689</td>\n      <td>東証ETF</td>\n      <td>WisdomTree 天然ガス上場投信</td>\n      <td>15:00</td>\n      <td>2</td>\n      <td>+100.00%</td>\n      <td>+1</td>\n      <td>8078100</td>\n      <td>掲示板</td>\n    </tr>\n    <tr>\n      <th>1</th>\n      <td>2</td>\n      <td>6031</td>\n      <td>マザーズ</td>\n      <td>サイジニア(株)</td>\n      <td>15:00</td>\n      <td>1374</td>\n      <td>+27.93%</td>\n      <td>+300</td>\n      <td>9100</td>\n      <td>掲示板</td>\n    </tr>\n    <tr>\n      <th>2</th>\n      <td>3</td>\n      <td>6063</td>\n      <td>東証JQS</td>\n      <td>日本エマージェンシーアシスタンス(株)</td>\n      <td>15:00</td>\n      <td>1394</td>\n      <td>+27.42%</td>\n      <td>+300</td>\n      <td>20500</td>\n      <td>掲示板</td>\n    </tr>\n    <tr>\n      <th>3</th>\n      <td>4</td>\n      <td>6177</td>\n      <td>マザーズ</td>\n      <td>ＡｐｐＢａｎｋ(株)</td>\n      <td>15:00</td>\n      <td>235</td>\n      <td>+27.03%</td>\n      <td>+50</td>\n      <td>1323000</td>\n      <td>掲示板</td>\n    </tr>\n    <tr>\n      <th>4</th>\n      <td>5</td>\n      <td>7359</td>\n      <td>マザーズ</td>\n      <td>(株)東京通信</td>\n      <td>15:00</td>\n      <td>2043</td>\n      <td>+24.35%</td>\n      <td>+400</td>\n      <td>847000</td>\n      <td>掲示板</td>\n    </tr>\n    <tr>\n      <th>5</th>\n      <td>6</td>\n      <td>4180</td>\n      <td>マザーズ</td>\n      <td>Ａｐｐｉｅｒ　Ｇｒｏｕｐ(株)</td>\n      <td>15:00</td>\n      <td>1900</td>\n      <td>+18.01%</td>\n      <td>+290</td>\n      <td>16334500</td>\n      <td>掲示板</td>\n    </tr>\n    <tr>\n      <th>6</th>\n      <td>7</td>\n      <td>3223</td>\n      <td>東証JQS</td>\n      <td>(株)エスエルディー</td>\n      <td>15:00</td>\n      <td>698</td>\n      <td>+16.72%</td>\n      <td>+100</td>\n      <td>30700</td>\n      <td>掲示板</td>\n    </tr>\n    <tr>\n      <th>7</th>\n      <td>8</td>\n      <td>4055</td>\n      <td>マザーズ</td>\n      <td>ティアンドエス(株)</td>\n      <td>15:00</td>\n      <td>5070</td>\n      <td>+16.15%</td>\n      <td>+705</td>\n      <td>283300</td>\n      <td>掲示板</td>\n    </tr>\n    <tr>\n      <th>8</th>\n      <td>9</td>\n      <td>4165</td>\n      <td>マザーズ</td>\n      <td>(株)プレイド</td>\n      <td>15:00</td>\n      <td>4200</td>\n      <td>+15.38%</td>\n      <td>+560</td>\n      <td>1590100</td>\n      <td>掲示板</td>\n    </tr>\n    <tr>\n      <th>9</th>\n      <td>10</td>\n      <td>6743</td>\n      <td>東証2部</td>\n      <td>大同信号(株)</td>\n      <td>14:57</td>\n      <td>690</td>\n      <td>+14.24%</td>\n      <td>+86</td>\n      <td>7700</td>\n      <td>掲示板</td>\n    </tr>\n  </tbody>\n</table>\n</div>"
     },
     "metadata": {},
     "execution_count": 188
    }
   ],
   "source": [
    "import pandas as pd\n",
    "url = \"https://info.finance.yahoo.co.jp/ranking/?kd=1&tm=d&mk=1\"\n",
    "\n",
    "dfs = pd.read_html(url)\n",
    "df = dfs[0]\n",
    "df.head(10)"
   ]
  },
  {
   "cell_type": "code",
   "execution_count": 189,
   "metadata": {},
   "outputs": [],
   "source": [
    "df.columns = ['順位', 'コード', '市場', '名称', '日付', '取引値', '前日比', '増加値', '出来高', '掲示板']"
   ]
  },
  {
   "cell_type": "code",
   "execution_count": 190,
   "metadata": {},
   "outputs": [
    {
     "output_type": "execute_result",
     "data": {
      "text/plain": [
       "    順位   コード     市場                       名称     日付   取引値       前日比   増加値  \\\n",
       "0    1  1689  東証ETF      WisdomTree 天然ガス上場投信  15:00     2  +100.00%    +1   \n",
       "1    2  6031   マザーズ                 サイジニア(株)  15:00  1374   +27.93%  +300   \n",
       "2    3  6063  東証JQS      日本エマージェンシーアシスタンス(株)  15:00  1394   +27.42%  +300   \n",
       "3    4  6177   マザーズ               ＡｐｐＢａｎｋ(株)  15:00   235   +27.03%   +50   \n",
       "4    5  7359   マザーズ                  (株)東京通信  15:00  2043   +24.35%  +400   \n",
       "5    6  4180   マザーズ          Ａｐｐｉｅｒ　Ｇｒｏｕｐ(株)  15:00  1900   +18.01%  +290   \n",
       "6    7  3223  東証JQS               (株)エスエルディー  15:00   698   +16.72%  +100   \n",
       "7    8  4055   マザーズ               ティアンドエス(株)  15:00  5070   +16.15%  +705   \n",
       "8    9  4165   マザーズ                  (株)プレイド  15:00  4200   +15.38%  +560   \n",
       "9   10  6743   東証2部                  大同信号(株)  14:57   690   +14.24%   +86   \n",
       "10  11  4168   マザーズ                   (株)ヤプリ  15:00  4940   +12.27%  +540   \n",
       "11  12  4477   マザーズ                  ＢＡＳＥ(株)  15:00  1762   +10.61%  +169   \n",
       "12  13  7092   マザーズ    (株)Ｆａｓｔ　Ｆｉｔｎｅｓｓ　Ｊａｐａｎ  15:00  3885   +10.06%  +355   \n",
       "13  14  7095   マザーズ         (株)Ｍａｃｂｅｅ　Ｐｌａｎｅｔ  15:00  6800   +10.03%  +620   \n",
       "14  15  8918   東証1部                   (株)ランド  15:00    11   +10.00%    +1   \n",
       "15  16  6627   マザーズ                (株)テラプローブ  15:00  1270    +9.86%  +114   \n",
       "16  17  2975   東証1部      スター・マイカ・ホールディングス(株)  15:00  1332    +9.72%  +118   \n",
       "17  18  8750   東証1部          第一生命ホールディングス(株)  15:00  2083    +9.52%  +181   \n",
       "18  19  4709   東証1部            (株)ＩＤホールディングス  15:00  1394    +9.33%  +119   \n",
       "19  20  4177   マザーズ                (株)ｉ−ｐｌｕｇ  15:00  4485    +9.12%  +375   \n",
       "20  21  1696  東証ETF    WisdomTree とうもろこし上場投信  15:00   111    +8.82%    +9   \n",
       "21  22  9976  東証JQS                 (株)セキチュー  15:00  2150    +8.59%  +170   \n",
       "22  23  3267   東証1部             (株)フィル・カンパニー  15:00  2442    +8.58%  +193   \n",
       "23  24  6966   東証1部               (株)三井ハイテック  15:00  5020    +8.42%  +390   \n",
       "24  25  4424   マザーズ                (株)Ａｍａｚｉａ  15:00  1957    +8.36%  +151   \n",
       "25  26  3035  東証JQS                ケイティケイ(株)  15:00   441    +8.09%   +33   \n",
       "26  27  6027   マザーズ              弁護士ドットコム(株)  15:00  9400    +7.92%  +690   \n",
       "27  28  2332  東証JQS                  (株)クエスト  15:00  1560    +7.88%  +114   \n",
       "28  29  6196   東証1部                 (株)ストライク  15:00  4755    +7.70%  +340   \n",
       "29  30  6323   東証1部                  ローツェ(株)  15:00  8400    +7.42%  +580   \n",
       "30  31  7360   マザーズ                 (株)オンデック  15:00  4055    +7.42%  +280   \n",
       "31  32  3445   東証1部       (株)ＲＳ　Ｔｅｃｈｎｏｌｏｇｉｅｓ  15:00  6850    +7.20%  +460   \n",
       "32  33  4828   東証1部          ビジネスエンジニアリング(株)  15:00  3720    +7.20%  +250   \n",
       "33  34  9327  東証JQS               (株)イー・ロジット  15:00  1774    +7.19%  +119   \n",
       "34  35  6993   東証2部           大黒屋ホールディングス(株)  15:00    45    +7.14%    +3   \n",
       "35  36  3991   マザーズ              ウォンテッドリー(株)  15:00  2030    +6.67%  +127   \n",
       "36  37  2375   東証2部                ギグワークス(株)  15:00  1124    +6.64%   +70   \n",
       "37  38  4593   マザーズ                  (株)ヘリオス  15:00  1779    +6.59%  +110   \n",
       "38  39  6387   東証1部                   サムコ(株)  15:00  3395    +6.59%  +210   \n",
       "39  40  7527   東証1部               (株)システムソフト  15:00   178    +6.59%   +11   \n",
       "40  41  7734   東証1部                  理研計器(株)  15:00  2936    +6.57%  +181   \n",
       "41  42  9438   東証1部               (株)エムティーアイ  15:00   861    +6.56%   +53   \n",
       "42  43  2413   東証1部                 エムスリー(株)  15:00  8059    +6.45%  +488   \n",
       "43  44  7717   東証1部             (株)ブイ・テクノロジー  15:00  5800    +6.42%  +350   \n",
       "44  45  4497   マザーズ                 (株)ロコガイド  15:00  3680    +6.36%  +220   \n",
       "45  46  7033   東証1部        (株)マネジメントソリューションズ  15:00  2264    +6.34%  +135   \n",
       "46  47  3788   東証1部  ＧＭＯグローバルサイン・ホールディングス(株)  15:00  7220    +6.33%  +430   \n",
       "47  48  2929   東証1部               (株)ファーマフーズ  15:00  3795    +6.30%  +225   \n",
       "48  49  1438   名証2部                  (株)岐阜造園  14:08  1828    +6.28%  +108   \n",
       "49  50  9610  東証JQS   ウィルソン・ラーニング　ワールドワイド(株)  15:00   238    +6.25%   +14   \n",
       "50  順位   コード     市場                       名称    取引値   取引値       前日比   前日比   \n",
       "\n",
       "         出来高  \n",
       "0    8078100  \n",
       "1       9100  \n",
       "2      20500  \n",
       "3    1323000  \n",
       "4     847000  \n",
       "5   16334500  \n",
       "6      30700  \n",
       "7     283300  \n",
       "8    1590100  \n",
       "9       7700  \n",
       "10    424000  \n",
       "11   5394900  \n",
       "12    190400  \n",
       "13    123300  \n",
       "14  31358900  \n",
       "15    279400  \n",
       "16    424900  \n",
       "17  18737600  \n",
       "18    213600  \n",
       "19    786700  \n",
       "20    330700  \n",
       "21     40400  \n",
       "22    213700  \n",
       "23    811900  \n",
       "24    172100  \n",
       "25   2098000  \n",
       "26    225700  \n",
       "27     88300  \n",
       "28    355600  \n",
       "29    282700  \n",
       "30     19400  \n",
       "31    148500  \n",
       "32     31400  \n",
       "33    377300  \n",
       "34  12168600  \n",
       "35     31300  \n",
       "36    737800  \n",
       "37    652800  \n",
       "38    208900  \n",
       "39   7525300  \n",
       "40     53900  \n",
       "41    163200  \n",
       "42   5557500  \n",
       "43    191800  \n",
       "44     65600  \n",
       "45    274500  \n",
       "46    176100  \n",
       "47   4170500  \n",
       "48       600  \n",
       "49    402600  \n",
       "50       出来高  "
      ],
      "text/html": "<div>\n<style scoped>\n    .dataframe tbody tr th:only-of-type {\n        vertical-align: middle;\n    }\n\n    .dataframe tbody tr th {\n        vertical-align: top;\n    }\n\n    .dataframe thead th {\n        text-align: right;\n    }\n</style>\n<table border=\"1\" class=\"dataframe\">\n  <thead>\n    <tr style=\"text-align: right;\">\n      <th></th>\n      <th>順位</th>\n      <th>コード</th>\n      <th>市場</th>\n      <th>名称</th>\n      <th>日付</th>\n      <th>取引値</th>\n      <th>前日比</th>\n      <th>増加値</th>\n      <th>出来高</th>\n    </tr>\n  </thead>\n  <tbody>\n    <tr>\n      <th>0</th>\n      <td>1</td>\n      <td>1689</td>\n      <td>東証ETF</td>\n      <td>WisdomTree 天然ガス上場投信</td>\n      <td>15:00</td>\n      <td>2</td>\n      <td>+100.00%</td>\n      <td>+1</td>\n      <td>8078100</td>\n    </tr>\n    <tr>\n      <th>1</th>\n      <td>2</td>\n      <td>6031</td>\n      <td>マザーズ</td>\n      <td>サイジニア(株)</td>\n      <td>15:00</td>\n      <td>1374</td>\n      <td>+27.93%</td>\n      <td>+300</td>\n      <td>9100</td>\n    </tr>\n    <tr>\n      <th>2</th>\n      <td>3</td>\n      <td>6063</td>\n      <td>東証JQS</td>\n      <td>日本エマージェンシーアシスタンス(株)</td>\n      <td>15:00</td>\n      <td>1394</td>\n      <td>+27.42%</td>\n      <td>+300</td>\n      <td>20500</td>\n    </tr>\n    <tr>\n      <th>3</th>\n      <td>4</td>\n      <td>6177</td>\n      <td>マザーズ</td>\n      <td>ＡｐｐＢａｎｋ(株)</td>\n      <td>15:00</td>\n      <td>235</td>\n      <td>+27.03%</td>\n      <td>+50</td>\n      <td>1323000</td>\n    </tr>\n    <tr>\n      <th>4</th>\n      <td>5</td>\n      <td>7359</td>\n      <td>マザーズ</td>\n      <td>(株)東京通信</td>\n      <td>15:00</td>\n      <td>2043</td>\n      <td>+24.35%</td>\n      <td>+400</td>\n      <td>847000</td>\n    </tr>\n    <tr>\n      <th>5</th>\n      <td>6</td>\n      <td>4180</td>\n      <td>マザーズ</td>\n      <td>Ａｐｐｉｅｒ　Ｇｒｏｕｐ(株)</td>\n      <td>15:00</td>\n      <td>1900</td>\n      <td>+18.01%</td>\n      <td>+290</td>\n      <td>16334500</td>\n    </tr>\n    <tr>\n      <th>6</th>\n      <td>7</td>\n      <td>3223</td>\n      <td>東証JQS</td>\n      <td>(株)エスエルディー</td>\n      <td>15:00</td>\n      <td>698</td>\n      <td>+16.72%</td>\n      <td>+100</td>\n      <td>30700</td>\n    </tr>\n    <tr>\n      <th>7</th>\n      <td>8</td>\n      <td>4055</td>\n      <td>マザーズ</td>\n      <td>ティアンドエス(株)</td>\n      <td>15:00</td>\n      <td>5070</td>\n      <td>+16.15%</td>\n      <td>+705</td>\n      <td>283300</td>\n    </tr>\n    <tr>\n      <th>8</th>\n      <td>9</td>\n      <td>4165</td>\n      <td>マザーズ</td>\n      <td>(株)プレイド</td>\n      <td>15:00</td>\n      <td>4200</td>\n      <td>+15.38%</td>\n      <td>+560</td>\n      <td>1590100</td>\n    </tr>\n    <tr>\n      <th>9</th>\n      <td>10</td>\n      <td>6743</td>\n      <td>東証2部</td>\n      <td>大同信号(株)</td>\n      <td>14:57</td>\n      <td>690</td>\n      <td>+14.24%</td>\n      <td>+86</td>\n      <td>7700</td>\n    </tr>\n    <tr>\n      <th>10</th>\n      <td>11</td>\n      <td>4168</td>\n      <td>マザーズ</td>\n      <td>(株)ヤプリ</td>\n      <td>15:00</td>\n      <td>4940</td>\n      <td>+12.27%</td>\n      <td>+540</td>\n      <td>424000</td>\n    </tr>\n    <tr>\n      <th>11</th>\n      <td>12</td>\n      <td>4477</td>\n      <td>マザーズ</td>\n      <td>ＢＡＳＥ(株)</td>\n      <td>15:00</td>\n      <td>1762</td>\n      <td>+10.61%</td>\n      <td>+169</td>\n      <td>5394900</td>\n    </tr>\n    <tr>\n      <th>12</th>\n      <td>13</td>\n      <td>7092</td>\n      <td>マザーズ</td>\n      <td>(株)Ｆａｓｔ　Ｆｉｔｎｅｓｓ　Ｊａｐａｎ</td>\n      <td>15:00</td>\n      <td>3885</td>\n      <td>+10.06%</td>\n      <td>+355</td>\n      <td>190400</td>\n    </tr>\n    <tr>\n      <th>13</th>\n      <td>14</td>\n      <td>7095</td>\n      <td>マザーズ</td>\n      <td>(株)Ｍａｃｂｅｅ　Ｐｌａｎｅｔ</td>\n      <td>15:00</td>\n      <td>6800</td>\n      <td>+10.03%</td>\n      <td>+620</td>\n      <td>123300</td>\n    </tr>\n    <tr>\n      <th>14</th>\n      <td>15</td>\n      <td>8918</td>\n      <td>東証1部</td>\n      <td>(株)ランド</td>\n      <td>15:00</td>\n      <td>11</td>\n      <td>+10.00%</td>\n      <td>+1</td>\n      <td>31358900</td>\n    </tr>\n    <tr>\n      <th>15</th>\n      <td>16</td>\n      <td>6627</td>\n      <td>マザーズ</td>\n      <td>(株)テラプローブ</td>\n      <td>15:00</td>\n      <td>1270</td>\n      <td>+9.86%</td>\n      <td>+114</td>\n      <td>279400</td>\n    </tr>\n    <tr>\n      <th>16</th>\n      <td>17</td>\n      <td>2975</td>\n      <td>東証1部</td>\n      <td>スター・マイカ・ホールディングス(株)</td>\n      <td>15:00</td>\n      <td>1332</td>\n      <td>+9.72%</td>\n      <td>+118</td>\n      <td>424900</td>\n    </tr>\n    <tr>\n      <th>17</th>\n      <td>18</td>\n      <td>8750</td>\n      <td>東証1部</td>\n      <td>第一生命ホールディングス(株)</td>\n      <td>15:00</td>\n      <td>2083</td>\n      <td>+9.52%</td>\n      <td>+181</td>\n      <td>18737600</td>\n    </tr>\n    <tr>\n      <th>18</th>\n      <td>19</td>\n      <td>4709</td>\n      <td>東証1部</td>\n      <td>(株)ＩＤホールディングス</td>\n      <td>15:00</td>\n      <td>1394</td>\n      <td>+9.33%</td>\n      <td>+119</td>\n      <td>213600</td>\n    </tr>\n    <tr>\n      <th>19</th>\n      <td>20</td>\n      <td>4177</td>\n      <td>マザーズ</td>\n      <td>(株)ｉ−ｐｌｕｇ</td>\n      <td>15:00</td>\n      <td>4485</td>\n      <td>+9.12%</td>\n      <td>+375</td>\n      <td>786700</td>\n    </tr>\n    <tr>\n      <th>20</th>\n      <td>21</td>\n      <td>1696</td>\n      <td>東証ETF</td>\n      <td>WisdomTree とうもろこし上場投信</td>\n      <td>15:00</td>\n      <td>111</td>\n      <td>+8.82%</td>\n      <td>+9</td>\n      <td>330700</td>\n    </tr>\n    <tr>\n      <th>21</th>\n      <td>22</td>\n      <td>9976</td>\n      <td>東証JQS</td>\n      <td>(株)セキチュー</td>\n      <td>15:00</td>\n      <td>2150</td>\n      <td>+8.59%</td>\n      <td>+170</td>\n      <td>40400</td>\n    </tr>\n    <tr>\n      <th>22</th>\n      <td>23</td>\n      <td>3267</td>\n      <td>東証1部</td>\n      <td>(株)フィル・カンパニー</td>\n      <td>15:00</td>\n      <td>2442</td>\n      <td>+8.58%</td>\n      <td>+193</td>\n      <td>213700</td>\n    </tr>\n    <tr>\n      <th>23</th>\n      <td>24</td>\n      <td>6966</td>\n      <td>東証1部</td>\n      <td>(株)三井ハイテック</td>\n      <td>15:00</td>\n      <td>5020</td>\n      <td>+8.42%</td>\n      <td>+390</td>\n      <td>811900</td>\n    </tr>\n    <tr>\n      <th>24</th>\n      <td>25</td>\n      <td>4424</td>\n      <td>マザーズ</td>\n      <td>(株)Ａｍａｚｉａ</td>\n      <td>15:00</td>\n      <td>1957</td>\n      <td>+8.36%</td>\n      <td>+151</td>\n      <td>172100</td>\n    </tr>\n    <tr>\n      <th>25</th>\n      <td>26</td>\n      <td>3035</td>\n      <td>東証JQS</td>\n      <td>ケイティケイ(株)</td>\n      <td>15:00</td>\n      <td>441</td>\n      <td>+8.09%</td>\n      <td>+33</td>\n      <td>2098000</td>\n    </tr>\n    <tr>\n      <th>26</th>\n      <td>27</td>\n      <td>6027</td>\n      <td>マザーズ</td>\n      <td>弁護士ドットコム(株)</td>\n      <td>15:00</td>\n      <td>9400</td>\n      <td>+7.92%</td>\n      <td>+690</td>\n      <td>225700</td>\n    </tr>\n    <tr>\n      <th>27</th>\n      <td>28</td>\n      <td>2332</td>\n      <td>東証JQS</td>\n      <td>(株)クエスト</td>\n      <td>15:00</td>\n      <td>1560</td>\n      <td>+7.88%</td>\n      <td>+114</td>\n      <td>88300</td>\n    </tr>\n    <tr>\n      <th>28</th>\n      <td>29</td>\n      <td>6196</td>\n      <td>東証1部</td>\n      <td>(株)ストライク</td>\n      <td>15:00</td>\n      <td>4755</td>\n      <td>+7.70%</td>\n      <td>+340</td>\n      <td>355600</td>\n    </tr>\n    <tr>\n      <th>29</th>\n      <td>30</td>\n      <td>6323</td>\n      <td>東証1部</td>\n      <td>ローツェ(株)</td>\n      <td>15:00</td>\n      <td>8400</td>\n      <td>+7.42%</td>\n      <td>+580</td>\n      <td>282700</td>\n    </tr>\n    <tr>\n      <th>30</th>\n      <td>31</td>\n      <td>7360</td>\n      <td>マザーズ</td>\n      <td>(株)オンデック</td>\n      <td>15:00</td>\n      <td>4055</td>\n      <td>+7.42%</td>\n      <td>+280</td>\n      <td>19400</td>\n    </tr>\n    <tr>\n      <th>31</th>\n      <td>32</td>\n      <td>3445</td>\n      <td>東証1部</td>\n      <td>(株)ＲＳ　Ｔｅｃｈｎｏｌｏｇｉｅｓ</td>\n      <td>15:00</td>\n      <td>6850</td>\n      <td>+7.20%</td>\n      <td>+460</td>\n      <td>148500</td>\n    </tr>\n    <tr>\n      <th>32</th>\n      <td>33</td>\n      <td>4828</td>\n      <td>東証1部</td>\n      <td>ビジネスエンジニアリング(株)</td>\n      <td>15:00</td>\n      <td>3720</td>\n      <td>+7.20%</td>\n      <td>+250</td>\n      <td>31400</td>\n    </tr>\n    <tr>\n      <th>33</th>\n      <td>34</td>\n      <td>9327</td>\n      <td>東証JQS</td>\n      <td>(株)イー・ロジット</td>\n      <td>15:00</td>\n      <td>1774</td>\n      <td>+7.19%</td>\n      <td>+119</td>\n      <td>377300</td>\n    </tr>\n    <tr>\n      <th>34</th>\n      <td>35</td>\n      <td>6993</td>\n      <td>東証2部</td>\n      <td>大黒屋ホールディングス(株)</td>\n      <td>15:00</td>\n      <td>45</td>\n      <td>+7.14%</td>\n      <td>+3</td>\n      <td>12168600</td>\n    </tr>\n    <tr>\n      <th>35</th>\n      <td>36</td>\n      <td>3991</td>\n      <td>マザーズ</td>\n      <td>ウォンテッドリー(株)</td>\n      <td>15:00</td>\n      <td>2030</td>\n      <td>+6.67%</td>\n      <td>+127</td>\n      <td>31300</td>\n    </tr>\n    <tr>\n      <th>36</th>\n      <td>37</td>\n      <td>2375</td>\n      <td>東証2部</td>\n      <td>ギグワークス(株)</td>\n      <td>15:00</td>\n      <td>1124</td>\n      <td>+6.64%</td>\n      <td>+70</td>\n      <td>737800</td>\n    </tr>\n    <tr>\n      <th>37</th>\n      <td>38</td>\n      <td>4593</td>\n      <td>マザーズ</td>\n      <td>(株)ヘリオス</td>\n      <td>15:00</td>\n      <td>1779</td>\n      <td>+6.59%</td>\n      <td>+110</td>\n      <td>652800</td>\n    </tr>\n    <tr>\n      <th>38</th>\n      <td>39</td>\n      <td>6387</td>\n      <td>東証1部</td>\n      <td>サムコ(株)</td>\n      <td>15:00</td>\n      <td>3395</td>\n      <td>+6.59%</td>\n      <td>+210</td>\n      <td>208900</td>\n    </tr>\n    <tr>\n      <th>39</th>\n      <td>40</td>\n      <td>7527</td>\n      <td>東証1部</td>\n      <td>(株)システムソフト</td>\n      <td>15:00</td>\n      <td>178</td>\n      <td>+6.59%</td>\n      <td>+11</td>\n      <td>7525300</td>\n    </tr>\n    <tr>\n      <th>40</th>\n      <td>41</td>\n      <td>7734</td>\n      <td>東証1部</td>\n      <td>理研計器(株)</td>\n      <td>15:00</td>\n      <td>2936</td>\n      <td>+6.57%</td>\n      <td>+181</td>\n      <td>53900</td>\n    </tr>\n    <tr>\n      <th>41</th>\n      <td>42</td>\n      <td>9438</td>\n      <td>東証1部</td>\n      <td>(株)エムティーアイ</td>\n      <td>15:00</td>\n      <td>861</td>\n      <td>+6.56%</td>\n      <td>+53</td>\n      <td>163200</td>\n    </tr>\n    <tr>\n      <th>42</th>\n      <td>43</td>\n      <td>2413</td>\n      <td>東証1部</td>\n      <td>エムスリー(株)</td>\n      <td>15:00</td>\n      <td>8059</td>\n      <td>+6.45%</td>\n      <td>+488</td>\n      <td>5557500</td>\n    </tr>\n    <tr>\n      <th>43</th>\n      <td>44</td>\n      <td>7717</td>\n      <td>東証1部</td>\n      <td>(株)ブイ・テクノロジー</td>\n      <td>15:00</td>\n      <td>5800</td>\n      <td>+6.42%</td>\n      <td>+350</td>\n      <td>191800</td>\n    </tr>\n    <tr>\n      <th>44</th>\n      <td>45</td>\n      <td>4497</td>\n      <td>マザーズ</td>\n      <td>(株)ロコガイド</td>\n      <td>15:00</td>\n      <td>3680</td>\n      <td>+6.36%</td>\n      <td>+220</td>\n      <td>65600</td>\n    </tr>\n    <tr>\n      <th>45</th>\n      <td>46</td>\n      <td>7033</td>\n      <td>東証1部</td>\n      <td>(株)マネジメントソリューションズ</td>\n      <td>15:00</td>\n      <td>2264</td>\n      <td>+6.34%</td>\n      <td>+135</td>\n      <td>274500</td>\n    </tr>\n    <tr>\n      <th>46</th>\n      <td>47</td>\n      <td>3788</td>\n      <td>東証1部</td>\n      <td>ＧＭＯグローバルサイン・ホールディングス(株)</td>\n      <td>15:00</td>\n      <td>7220</td>\n      <td>+6.33%</td>\n      <td>+430</td>\n      <td>176100</td>\n    </tr>\n    <tr>\n      <th>47</th>\n      <td>48</td>\n      <td>2929</td>\n      <td>東証1部</td>\n      <td>(株)ファーマフーズ</td>\n      <td>15:00</td>\n      <td>3795</td>\n      <td>+6.30%</td>\n      <td>+225</td>\n      <td>4170500</td>\n    </tr>\n    <tr>\n      <th>48</th>\n      <td>49</td>\n      <td>1438</td>\n      <td>名証2部</td>\n      <td>(株)岐阜造園</td>\n      <td>14:08</td>\n      <td>1828</td>\n      <td>+6.28%</td>\n      <td>+108</td>\n      <td>600</td>\n    </tr>\n    <tr>\n      <th>49</th>\n      <td>50</td>\n      <td>9610</td>\n      <td>東証JQS</td>\n      <td>ウィルソン・ラーニング　ワールドワイド(株)</td>\n      <td>15:00</td>\n      <td>238</td>\n      <td>+6.25%</td>\n      <td>+14</td>\n      <td>402600</td>\n    </tr>\n    <tr>\n      <th>50</th>\n      <td>順位</td>\n      <td>コード</td>\n      <td>市場</td>\n      <td>名称</td>\n      <td>取引値</td>\n      <td>取引値</td>\n      <td>前日比</td>\n      <td>前日比</td>\n      <td>出来高</td>\n    </tr>\n  </tbody>\n</table>\n</div>"
     },
     "metadata": {},
     "execution_count": 190
    }
   ],
   "source": [
    "df = df.drop('掲示板', axis=1)\n",
    "df"
   ]
  },
  {
   "cell_type": "code",
   "execution_count": 191,
   "metadata": {},
   "outputs": [],
   "source": [
    "df = df.drop(df.index[-1])"
   ]
  },
  {
   "cell_type": "code",
   "execution_count": 192,
   "metadata": {},
   "outputs": [
    {
     "output_type": "execute_result",
     "data": {
      "text/plain": [
       "dtype('O')"
      ]
     },
     "metadata": {},
     "execution_count": 192
    }
   ],
   "source": [
    "df['順位'].dtype"
   ]
  },
  {
   "cell_type": "code",
   "execution_count": 193,
   "metadata": {},
   "outputs": [
    {
     "output_type": "execute_result",
     "data": {
      "text/plain": [
       "dtype('int64')"
      ]
     },
     "metadata": {},
     "execution_count": 193
    }
   ],
   "source": [
    "df = df.astype({'順位' : int})\n",
    "df['順位'].dtype\n"
   ]
  },
  {
   "cell_type": "code",
   "execution_count": 194,
   "metadata": {},
   "outputs": [],
   "source": [
    "df['増加値']=[e.replace('+', '') for e in df['増加値'].tolist()]"
   ]
  },
  {
   "cell_type": "code",
   "execution_count": 195,
   "metadata": {},
   "outputs": [],
   "source": [
    "df = df.astype(\n",
    "    {'順位' : int,\n",
    "    'コード': int,\n",
    "    '取引値' : int,\n",
    "    '増加値' : int,\n",
    "    '出来高' : int\n",
    "    }\n",
    ")"
   ]
  },
  {
   "cell_type": "code",
   "execution_count": 196,
   "metadata": {},
   "outputs": [],
   "source": [
    "df['前日比'] = [e.replace('+', '').replace('%', '') for e in df['前日比'].tolist()]\n"
   ]
  },
  {
   "cell_type": "code",
   "execution_count": 197,
   "metadata": {},
   "outputs": [],
   "source": [
    "df = df.astype({'前日比' : float})\n"
   ]
  },
  {
   "cell_type": "code",
   "execution_count": 198,
   "metadata": {},
   "outputs": [],
   "source": [
    "df.to_csv('./stock_up.csv', encoding = 'utf_8_sig')"
   ]
  },
  {
   "cell_type": "code",
   "execution_count": null,
   "metadata": {},
   "outputs": [],
   "source": []
  }
 ]
}