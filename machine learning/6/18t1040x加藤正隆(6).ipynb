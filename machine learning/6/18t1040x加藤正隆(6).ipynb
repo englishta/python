{
 "metadata": {
  "language_info": {
   "codemirror_mode": {
    "name": "ipython",
    "version": 3
   },
   "file_extension": ".py",
   "mimetype": "text/x-python",
   "name": "python",
   "nbconvert_exporter": "python",
   "pygments_lexer": "ipython3",
   "version": "3.8.5-final"
  },
  "orig_nbformat": 2,
  "kernelspec": {
   "name": "python3",
   "display_name": "Python 3"
  }
 },
 "nbformat": 4,
 "nbformat_minor": 2,
 "cells": [
  {
   "cell_type": "code",
   "execution_count": 1,
   "metadata": {},
   "outputs": [],
   "source": [
    "def jukaiki_bunseki(X, y):\n",
    "\n",
    " N = np.size(y) # 標本数\n",
    " Y = np.c_[y]\n",
    " X = np.c_[X, np.ones(N)]\n",
    "\n",
    " tmp = np.dot(X.T, X)\n",
    " r1 = np.linalg.inv(tmp)\n",
    " r2 = np.dot(X.T, Y)\n",
    " A = np.dot(r1, r2) # 係数ベクトル\n",
    "\n",
    " Y_hat = np.dot(X, A) # 内積 (予測値): a1*x1+a2*x2+...+b*1\n",
    " Y_hat = Y_hat[:, 0] # 0列のみを指定 (行列→ベクトル)\n",
    "\n",
    " C = np.corrcoef(Y_hat, y)[0,1]\n",
    " R2 = np.sum( (Y_hat-np.mean(y))**2 ) / np.sum( (y-np.mean(y))**2 )\n",
    "\n",
    " return A, C, R2"
   ]
  },
  {
   "cell_type": "code",
   "execution_count": 3,
   "metadata": {},
   "outputs": [
    {
     "output_type": "stream",
     "name": "stdout",
     "text": [
      "[[-0.27524303]\n [ 1.33115731]\n [ 0.50904704]\n [-2.5036543 ]]\n0.8272730306826344\n0.6843806672948266\n"
     ]
    }
   ],
   "source": [
    "import numpy as np\n",
    "x1=[3,5,2,4,4,5,1,1,4,4,5,2,5,1,2]\n",
    "x2=[3,4,2,4,4,4,3,2,4,3,4,2,5,2,2]\n",
    "x3=[4,2,2,3,2,2,3,3,5,4,2,2,1,4,2]\n",
    "y=[3,2,1,2,3,1,3,1,5,3,3,1,4,1,1]\n",
    "N = np.size(y)\n",
    "X = np.c_[x1, x2, x3]\n",
    "A, C, R2 = jukaiki_bunseki(X, y)\n",
    "print(A)\n",
    "print(C)\n",
    "print(R2)\n"
   ]
  },
  {
   "cell_type": "code",
   "execution_count": 4,
   "metadata": {},
   "outputs": [
    {
     "output_type": "stream",
     "name": "stdout",
     "text": [
      "[[-3.37102487e-01]\n [ 1.05481680e+00]\n [ 4.37416899e-01]\n [ 2.25346780e-16]]\n0.827273030682634\n0.6843806672948303\n"
     ]
    }
   ],
   "source": [
    "x1_h = (x1-np.mean(x1)) / np.std(x1, ddof=1)\n",
    "x2_h = (x2-np.mean(x2)) / np.std(x2, ddof=1)\n",
    "x3_h = (x3-np.mean(x3)) / np.std(x3, ddof=1)\n",
    "y_h = (y-np.mean(y)) / np.std(y, ddof=1)\n",
    "X_h = np.c_[x1_h, x2_h, x3_h]\n",
    "A, C, R2 = jukaiki_bunseki(X_h, y_h)\n",
    "print(A)\n",
    "print(C)\n",
    "print(R2)\n"
   ]
  },
  {
   "cell_type": "code",
   "execution_count": 5,
   "metadata": {},
   "outputs": [
    {
     "output_type": "stream",
     "name": "stdout",
     "text": [
      "[[5.87835518e-01]\n [4.58861357e-01]\n [1.26653055e-16]]\n0.6461592625119486\n0.4175217925299851\n"
     ]
    }
   ],
   "source": [
    "A, C, R2 = jukaiki_bunseki( np.c_[x1_h, x3_h], y_h)\n",
    "print(A)\n",
    "print(C)\n",
    "print(R2)"
   ]
  },
  {
   "cell_type": "code",
   "execution_count": 7,
   "metadata": {},
   "outputs": [
    {
     "output_type": "stream",
     "name": "stdout",
     "text": [
      "[[ 8.71648250e-01]\n [-8.08632883e-17]]\n0.8716482500611272\n0.759770671834625\n"
     ]
    }
   ],
   "source": [
    "A, C, R2 = jukaiki_bunseki(x1_h, x2_h)\n",
    "print(A)\n",
    "print(C)\n",
    "print(R2)"
   ]
  },
  {
   "cell_type": "code",
   "execution_count": 11,
   "metadata": {},
   "outputs": [
    {
     "output_type": "stream",
     "name": "stdout",
     "text": [
      "[[-2.56886475e-01]\n [-5.07245884e-17]]\n0.2568864750256222\n0.0659906610510896\n"
     ]
    }
   ],
   "source": [
    "A, C, R2 = jukaiki_bunseki(x1_h, x3_h)\n",
    "print(A)\n",
    "print(C)\n",
    "print(R2)"
   ]
  },
  {
   "cell_type": "code",
   "execution_count": null,
   "metadata": {},
   "outputs": [],
   "source": []
  }
 ]
}